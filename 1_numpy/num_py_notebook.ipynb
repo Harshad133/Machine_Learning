{
 "cells": [
  {
   "cell_type": "markdown",
   "id": "6ea359d0",
   "metadata": {},
   "source": [
    "# NumPy"
   ]
  },
  {
   "attachments": {},
   "cell_type": "markdown",
   "id": "888daf75",
   "metadata": {},
   "source": [
    "What is NumPy?\n",
    "\n",
    "NumPy is the fundamental package for scientific computing in Python. It is a Python library that provides a multidimensional array object, various derived objects (such as masked arrays and matrices), and an assortment of routines for fast operations on arrays, including mathematical, logical, shape manipulation, sorting, selecting, I/O, discrete Fourier transforms, basic linear algebra, basic statistical operations, random simulation and much more.\n",
    "\n",
    "At the core of the NumPy package, is the ndarray object. This encapsulates n-dimensional arrays of homogeneous data types\n",
    "\n",
    "\n",
    "NumPy Arrays Vs Python Sequences\n",
    "\n",
    "\t• NumPy arrays have a fixed size at creation, unlike Python lists (which can grow dynamically). Changing the size of an ndarray will create a new array and delete the original.\n",
    "\n",
    "\t• The elements in a NumPy array are all required to be of the same data type, and thus will be the same size in memory.\n",
    "\n",
    "\t• NumPy arrays facilitate advanced mathematical and other types of operations on large numbers of data. Typically, such operations are executed more efficiently and with less code than is possible using Python’s built-in sequences.\n",
    "\n",
    "\t• A growing plethora of scientific and mathematical Python-based packages are using NumPy arrays; though these typically support Python-sequence input, they convert such input to NumPy arrays prior to processing, and they often output NumPy arrays."
   ]
  },
  {
   "cell_type": "code",
   "execution_count": 2,
   "id": "2ebd6d16",
   "metadata": {},
   "outputs": [],
   "source": [
    "import numpy as np"
   ]
  },
  {
   "cell_type": "code",
   "execution_count": 3,
   "id": "fafd202a",
   "metadata": {},
   "outputs": [
    {
     "data": {
      "text/plain": [
       "array([1, 2, 3, 4])"
      ]
     },
     "execution_count": 3,
     "metadata": {},
     "output_type": "execute_result"
    }
   ],
   "source": [
    "#1D Array Or Vector\n",
    "list = [1, 2, 3, 4]\n",
    "\n",
    "arr1 = np.array(list) \n",
    "arr1"
   ]
  },
  {
   "cell_type": "code",
   "execution_count": 9,
   "id": "00b9fde6",
   "metadata": {},
   "outputs": [
    {
     "data": {
      "text/plain": [
       "(4,)"
      ]
     },
     "execution_count": 9,
     "metadata": {},
     "output_type": "execute_result"
    }
   ],
   "source": [
    "arr1.shape"
   ]
  },
  {
   "cell_type": "code",
   "execution_count": 10,
   "id": "f969ae55",
   "metadata": {},
   "outputs": [
    {
     "data": {
      "text/plain": [
       "array([[1, 2, 3, 4],\n",
       "       [1, 2, 3, 4],\n",
       "       [1, 2, 3, 4],\n",
       "       [1, 2, 3, 4]])"
      ]
     },
     "execution_count": 10,
     "metadata": {},
     "output_type": "execute_result"
    }
   ],
   "source": [
    "list1 = [1, 2, 3, 4]\n",
    "list2 = [1, 2, 3, 4]\n",
    "list3 = [1, 2, 3, 4]\n",
    "list4 = [1, 2, 3, 4]\n",
    "\n",
    "\n",
    "#  2D Array Or Matrix\n",
    "arry = np.array([list1, list2, list3, list4])\n",
    "arry"
   ]
  },
  {
   "cell_type": "code",
   "execution_count": 11,
   "id": "d2dde9c2",
   "metadata": {},
   "outputs": [
    {
     "data": {
      "text/plain": [
       "(4, 4)"
      ]
     },
     "execution_count": 11,
     "metadata": {},
     "output_type": "execute_result"
    }
   ],
   "source": [
    "arry.shape"
   ]
  },
  {
   "cell_type": "code",
   "execution_count": 12,
   "id": "3b65c03a",
   "metadata": {},
   "outputs": [
    {
     "data": {
      "text/plain": [
       "array([1, 2, 3])"
      ]
     },
     "execution_count": 12,
     "metadata": {},
     "output_type": "execute_result"
    }
   ],
   "source": [
    "# Custom Type ndArray\n",
    "arr = np.array([1,2,3], dtype=int)\n",
    "arr"
   ]
  },
  {
   "cell_type": "code",
   "execution_count": 13,
   "id": "032f8944",
   "metadata": {},
   "outputs": [
    {
     "data": {
      "text/plain": [
       "array([ 1,  2,  3,  4,  5,  6,  7,  8,  9, 10, 11, 12])"
      ]
     },
     "execution_count": 13,
     "metadata": {},
     "output_type": "execute_result"
    }
   ],
   "source": [
    "np.arange(1,13)"
   ]
  },
  {
   "cell_type": "code",
   "execution_count": 14,
   "id": "48550e6b-431d-4bed-b1e4-c4204905c254",
   "metadata": {},
   "outputs": [
    {
     "data": {
      "text/plain": [
       "array([[ 1,  2],\n",
       "       [ 3,  4],\n",
       "       [ 5,  6],\n",
       "       [ 7,  8],\n",
       "       [ 9, 10],\n",
       "       [11, 12]])"
      ]
     },
     "execution_count": 14,
     "metadata": {},
     "output_type": "execute_result"
    }
   ],
   "source": [
    "# Reshape is Possible if Element can fit on that shape\n",
    "\n",
    "np.arange(1,13).reshape(6,2)"
   ]
  },
  {
   "cell_type": "code",
   "execution_count": 15,
   "id": "66413edd-8ab4-47ce-846c-e39a1f4455f4",
   "metadata": {},
   "outputs": [
    {
     "data": {
      "text/plain": [
       "array([[1., 1., 1., 1.],\n",
       "       [1., 1., 1., 1.],\n",
       "       [1., 1., 1., 1.]])"
      ]
     },
     "execution_count": 15,
     "metadata": {},
     "output_type": "execute_result"
    }
   ],
   "source": [
    "np.ones((3,4))"
   ]
  },
  {
   "cell_type": "code",
   "execution_count": 16,
   "id": "3e7a2ac4-e5bc-4f27-96cc-2c17913908b1",
   "metadata": {},
   "outputs": [
    {
     "data": {
      "text/plain": [
       "array([[0., 0., 0.],\n",
       "       [0., 0., 0.],\n",
       "       [0., 0., 0.],\n",
       "       [0., 0., 0.],\n",
       "       [0., 0., 0.]])"
      ]
     },
     "execution_count": 16,
     "metadata": {},
     "output_type": "execute_result"
    }
   ],
   "source": [
    "np.zeros((5,3))"
   ]
  },
  {
   "cell_type": "code",
   "execution_count": 17,
   "id": "6d1362bc-2a4d-4cfb-af73-ee40ec4b1a24",
   "metadata": {},
   "outputs": [
    {
     "data": {
      "text/plain": [
       "array([[0.23901746, 0.69481665, 0.75889497, 0.99657479, 0.86065709],\n",
       "       [0.69726354, 0.96653534, 0.85392878, 0.7983297 , 0.44613858],\n",
       "       [0.97484325, 0.40513663, 0.11498753, 0.99070573, 0.39619858]])"
      ]
     },
     "execution_count": 17,
     "metadata": {},
     "output_type": "execute_result"
    }
   ],
   "source": [
    "np.random.random((3,5))"
   ]
  },
  {
   "cell_type": "code",
   "execution_count": 18,
   "id": "998a2339-09d1-48be-9b11-3234969e6762",
   "metadata": {},
   "outputs": [
    {
     "data": {
      "text/plain": [
       "array([-10.        ,  -7.77777778,  -5.55555556,  -3.33333333,\n",
       "        -1.11111111,   1.11111111,   3.33333333,   5.55555556,\n",
       "         7.77777778,  10.        ])"
      ]
     },
     "execution_count": 18,
     "metadata": {},
     "output_type": "execute_result"
    }
   ],
   "source": [
    "np.linspace(-10,10,10)"
   ]
  },
  {
   "cell_type": "markdown",
   "id": "bafd7e75",
   "metadata": {},
   "source": [
    "# Array Attributes"
   ]
  },
  {
   "cell_type": "code",
   "execution_count": 19,
   "id": "1d346373-dc81-42f6-9b90-1951c019dcc0",
   "metadata": {},
   "outputs": [],
   "source": [
    "a1 = np.arange(10, dtype=np.int64)\n",
    "a2 = np.arange(12).reshape(4,3)\n",
    "a5 = np.arange(12).reshape(4,3)\n",
    "a3 = np.arange(16).reshape(2,4,2)\n",
    "a4 = np.arange(16).reshape(2,2,2,2)"
   ]
  },
  {
   "cell_type": "code",
   "execution_count": 20,
   "id": "957f833e-5026-482c-9eae-f400b3cf13cc",
   "metadata": {},
   "outputs": [
    {
     "data": {
      "text/plain": [
       "4"
      ]
     },
     "execution_count": 20,
     "metadata": {},
     "output_type": "execute_result"
    }
   ],
   "source": [
    "#  show Dimensions of Array\n",
    "a4.ndim"
   ]
  },
  {
   "cell_type": "code",
   "execution_count": 21,
   "id": "67fb2e1d-760f-4d1b-abbc-4306c2f4f99b",
   "metadata": {},
   "outputs": [
    {
     "name": "stdout",
     "output_type": "stream",
     "text": [
      "(10,)\n",
      "(4, 3)\n",
      "(2, 4, 2)\n",
      "(2, 2, 2, 2)\n",
      "10\n"
     ]
    }
   ],
   "source": [
    "#  shape of array\n",
    "print(a1.shape)\n",
    "print(a2.shape)\n",
    "print(a3.shape)\n",
    "print(a4.shape)\n",
    "\n",
    "# size of Array\n",
    "print(a1.size)"
   ]
  },
  {
   "cell_type": "code",
   "execution_count": 22,
   "id": "e908b847-aacb-478e-8479-020ce74aa628",
   "metadata": {},
   "outputs": [
    {
     "data": {
      "text/plain": [
       "8"
      ]
     },
     "execution_count": 22,
     "metadata": {},
     "output_type": "execute_result"
    }
   ],
   "source": [
    "# item size is show one element of array how many byte memory will take\n",
    "a1.itemsize"
   ]
  },
  {
   "cell_type": "code",
   "execution_count": 23,
   "id": "c3f2d5b7-9ad0-4605-aab1-de8c1fc48e92",
   "metadata": {},
   "outputs": [
    {
     "data": {
      "text/plain": [
       "dtype('int64')"
      ]
     },
     "execution_count": 23,
     "metadata": {},
     "output_type": "execute_result"
    }
   ],
   "source": [
    "# Datatype of Array\n",
    "a1.dtype"
   ]
  },
  {
   "cell_type": "code",
   "execution_count": 24,
   "id": "5d63c7ef-4d72-4a3a-b4e4-f82aa3383377",
   "metadata": {},
   "outputs": [
    {
     "data": {
      "text/plain": [
       "array([[ 0,  1,  2],\n",
       "       [ 3,  4,  5],\n",
       "       [ 6,  7,  8],\n",
       "       [ 9, 10, 11]], dtype=int64)"
      ]
     },
     "execution_count": 24,
     "metadata": {},
     "output_type": "execute_result"
    }
   ],
   "source": [
    "# astype for change dtype of array\n",
    "a2.astype(np.int64)"
   ]
  },
  {
   "cell_type": "code",
   "execution_count": 25,
   "id": "edadecde-0c81-4b23-98ec-f82bc333a746",
   "metadata": {},
   "outputs": [
    {
     "data": {
      "text/plain": [
       "array([[[ 0.,  1.],\n",
       "        [ 2.,  3.],\n",
       "        [ 4.,  5.],\n",
       "        [ 6.,  7.]],\n",
       "\n",
       "       [[ 8.,  9.],\n",
       "        [10., 11.],\n",
       "        [12., 13.],\n",
       "        [14., 15.]]])"
      ]
     },
     "execution_count": 25,
     "metadata": {},
     "output_type": "execute_result"
    }
   ],
   "source": [
    "a3.astype(np.float64)"
   ]
  },
  {
   "cell_type": "raw",
   "id": "2c1c196c-e6be-4506-b253-74265effe93c",
   "metadata": {},
   "source": [
    "Array Operation"
   ]
  },
  {
   "cell_type": "code",
   "execution_count": 26,
   "id": "f25d57a1-269d-4a26-95ae-9720f47af6b1",
   "metadata": {},
   "outputs": [
    {
     "data": {
      "text/plain": [
       "array([[ True,  True,  True],\n",
       "       [ True,  True,  True],\n",
       "       [ True,  True,  True],\n",
       "       [ True,  True,  True]])"
      ]
     },
     "execution_count": 26,
     "metadata": {},
     "output_type": "execute_result"
    }
   ],
   "source": [
    "# Sacaler Operatons\n",
    "# it will apply to all element\n",
    "a1 + 2\n",
    "a1 * 8\n",
    "a1 / 2\n",
    "\n",
    "# Relation operatons\n",
    "# it will compare all element of a2 with Relations\n",
    "a2 < 40"
   ]
  },
  {
   "cell_type": "code",
   "execution_count": 27,
   "id": "884cbd3b-36b8-48e6-b537-51117132ae89",
   "metadata": {},
   "outputs": [
    {
     "data": {
      "text/plain": [
       "array([[ 0,  2,  4],\n",
       "       [ 6,  8, 10],\n",
       "       [12, 14, 16],\n",
       "       [18, 20, 22]])"
      ]
     },
     "execution_count": 27,
     "metadata": {},
     "output_type": "execute_result"
    }
   ],
   "source": [
    "# this is all vector opertaion will apply when shpe is same or follow Rules\n",
    "\n",
    "a2 * a5\n",
    "a2 + a5"
   ]
  },
  {
   "cell_type": "markdown",
   "id": "a173d672",
   "metadata": {},
   "source": [
    "# Numpy Functions"
   ]
  },
  {
   "cell_type": "code",
   "execution_count": 28,
   "id": "0ce05ab6",
   "metadata": {},
   "outputs": [
    {
     "data": {
      "text/plain": [
       "array([[40., 27., 99.],\n",
       "       [70., 74., 26.],\n",
       "       [97., 45., 15.]])"
      ]
     },
     "execution_count": 28,
     "metadata": {},
     "output_type": "execute_result"
    }
   ],
   "source": [
    "a1 = np.random.random(9).reshape((3,3))\n",
    "\n",
    "# round decimal point , in this function decimal=0 so this is not show any number after decimal point\n",
    "a1 = np.round(a1*100)\n",
    "a1"
   ]
  },
  {
   "cell_type": "code",
   "execution_count": 29,
   "id": "644d57ab",
   "metadata": {},
   "outputs": [
    {
     "data": {
      "text/plain": [
       "array([27., 26., 15.])"
      ]
     },
     "execution_count": 29,
     "metadata": {},
     "output_type": "execute_result"
    }
   ],
   "source": [
    "# min, max, sum , prod\n",
    "\n",
    "np.min(a1)\n",
    "np.max(a1)\n",
    "np.sum(a1)\n",
    "np.prod(a1)\n",
    "\n",
    "# give specifice col or row sum, max, min, prod\n",
    "# col -> axis=0  row-> axis=1\n",
    "\n",
    "np.max(a1,axis=0)\n",
    "np.min(a1, axis=1)"
   ]
  },
  {
   "cell_type": "code",
   "execution_count": 30,
   "id": "1a0a0ebe",
   "metadata": {},
   "outputs": [
    {
     "data": {
      "text/plain": [
       "870.6172839506173"
      ]
     },
     "execution_count": 30,
     "metadata": {},
     "output_type": "execute_result"
    }
   ],
   "source": [
    "# statical functions\n",
    "\n",
    "np.mean(a1)\n",
    "np.median(a1,axis = 0)\n",
    "np.std(a1)\n",
    "np.var(a1)"
   ]
  },
  {
   "cell_type": "code",
   "execution_count": 31,
   "id": "b0d34465",
   "metadata": {},
   "outputs": [
    {
     "data": {
      "text/plain": [
       "array([[ 0.74511316,  0.95637593, -0.99920683],\n",
       "       [ 0.77389068, -0.98514626,  0.76255845],\n",
       "       [ 0.37960774,  0.85090352,  0.65028784]])"
      ]
     },
     "execution_count": 31,
     "metadata": {},
     "output_type": "execute_result"
    }
   ],
   "source": [
    "# trignometry function\n",
    "\n",
    "np.sin(a1)"
   ]
  },
  {
   "cell_type": "code",
   "execution_count": 32,
   "id": "c1135a9d",
   "metadata": {},
   "outputs": [
    {
     "data": {
      "text/plain": [
       "array([[114, 120, 126],\n",
       "       [378, 400, 422],\n",
       "       [642, 680, 718]])"
      ]
     },
     "execution_count": 32,
     "metadata": {},
     "output_type": "execute_result"
    }
   ],
   "source": [
    "# dot product / multiplecation of matrix\n",
    "# this function follow matrix dot product rule also\n",
    "\n",
    "a2 = np.arange(12).reshape(3,4)\n",
    "a3 = np.arange(12,24).reshape(4,3)\n",
    "\n",
    "np.dot(a2,a3)"
   ]
  },
  {
   "cell_type": "code",
   "execution_count": 33,
   "id": "e27eacfe",
   "metadata": {},
   "outputs": [
    {
     "data": {
      "text/plain": [
       "6.0"
      ]
     },
     "execution_count": 33,
     "metadata": {},
     "output_type": "execute_result"
    }
   ],
   "source": [
    "# round => round to nearest integer\n",
    "# floor => floor value\n",
    "# ceil => give ceiling value\n",
    "np.ceil(6.0)\n",
    "np.floor(6.6)\n",
    "np.round(6.4)"
   ]
  },
  {
   "cell_type": "code",
   "execution_count": 34,
   "id": "c20c084b",
   "metadata": {},
   "outputs": [
    {
     "data": {
      "text/plain": [
       "40.0"
      ]
     },
     "execution_count": 34,
     "metadata": {},
     "output_type": "execute_result"
    }
   ],
   "source": [
    "a1[0,0]"
   ]
  },
  {
   "cell_type": "code",
   "execution_count": 35,
   "id": "f8a04380",
   "metadata": {},
   "outputs": [],
   "source": [
    "# slicing"
   ]
  },
  {
   "cell_type": "code",
   "execution_count": 36,
   "id": "ff7752b4",
   "metadata": {},
   "outputs": [
    {
     "data": {
      "text/plain": [
       "array([[40., 70., 97.],\n",
       "       [27., 74., 45.],\n",
       "       [99., 26., 15.]])"
      ]
     },
     "execution_count": 36,
     "metadata": {},
     "output_type": "execute_result"
    }
   ],
   "source": [
    "# transpose\n",
    "np.transpose(a1)\n",
    "a1.T"
   ]
  },
  {
   "cell_type": "code",
   "execution_count": 37,
   "id": "05ab3742",
   "metadata": {},
   "outputs": [],
   "source": [
    "# Learn in Web\n",
    "# hstrack\n",
    "# vstack"
   ]
  },
  {
   "cell_type": "code",
   "execution_count": 38,
   "id": "c613e9aa",
   "metadata": {},
   "outputs": [
    {
     "data": {
      "text/plain": [
       "[array([[40., 27., 99.]]), array([[70., 74., 26.]]), array([[97., 45., 15.]])]"
      ]
     },
     "execution_count": 38,
     "metadata": {},
     "output_type": "execute_result"
    }
   ],
   "source": [
    "#Spliting\n",
    "\n",
    "np.hsplit(a1,3)\n",
    "# this per form when array have enouph row and col for split \n",
    "# example in can not split 3x3 array in two part\n",
    "\n",
    "# split always divede in equal parts\n",
    "np.vsplit(a1,3)"
   ]
  },
  {
   "cell_type": "code",
   "execution_count": null,
   "id": "412d1345",
   "metadata": {},
   "outputs": [],
   "source": []
  },
  {
   "cell_type": "code",
   "execution_count": null,
   "id": "9b6e5904",
   "metadata": {},
   "outputs": [],
   "source": []
  }
 ],
 "metadata": {
  "kernelspec": {
   "display_name": "Python 3 (ipykernel)",
   "language": "python",
   "name": "python3"
  },
  "language_info": {
   "codemirror_mode": {
    "name": "ipython",
    "version": 3
   },
   "file_extension": ".py",
   "mimetype": "text/x-python",
   "name": "python",
   "nbconvert_exporter": "python",
   "pygments_lexer": "ipython3",
   "version": "3.10.14"
  }
 },
 "nbformat": 4,
 "nbformat_minor": 5
}
